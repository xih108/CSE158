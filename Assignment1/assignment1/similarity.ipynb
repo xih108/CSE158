{
 "cells": [
  {
   "cell_type": "code",
   "execution_count": 5,
   "metadata": {},
   "outputs": [],
   "source": [
    "#Predictions Purchase\n",
    "import gzip\n",
    "from collections import defaultdict\n",
    "def readGz(f):\n",
    "    for l in gzip.open(f):\n",
    "        yield eval(l)\n",
    "\n",
    "userCateID = defaultdict(list)\n",
    "userCate = defaultdict(list)\n",
    "itemCateID = defaultdict(int)\n",
    "itemCate = defaultdict(list)\n",
    "\n",
    "itemUser = defaultdict(list)\n",
    "\n",
    "count = defaultdict(int)\n",
    "totalPurchases = 0\n",
    "\n",
    "train_set = [l for l in readGz(\"train.json.gz\")]\n",
    "\n",
    "for l in train_set:\n",
    "    user,item,cateID,cate = l['reviewerID'],l['itemID'],l['categoryID'],l['categories']\n",
    "    itemUser[item] += [user]\n",
    "    userCateID[user] += [cateID]\n",
    "    \n",
    "    count[item]+=1\n",
    "    totalPurchases +=1\n",
    "    \n",
    "mostPopular = [(count[item], item) for item in count] \n",
    "mostPopular.sort()\n",
    "mostPopular.reverse()\n",
    "return1 = set()\n",
    "count = 0\n",
    "\n",
    "for ic, i in mostPopular:\n",
    "    count += ic\n",
    "    return1.add(i)\n",
    "    if count > totalPurchases/2.3: \n",
    "        break\n",
    "\n",
    "def jacarrd(user,item):\n",
    "    j=[]\n",
    "    for u in itemUser[item]:\n",
    "        set1= set(userCateID[user])\n",
    "        set2 = set(userCateID[u])\n",
    "        j.append(len(set1 & set2)/ (len(set1 | set2 )))\n",
    "#     print(max(j))\n",
    "    if len(j) == 0:\n",
    "        return 0\n",
    "    return max(j)\n",
    "\n",
    "    \n",
    "def pred(user,item):\n",
    "    if jacarrd(user,item) >=0.6 and item in return1:\n",
    "        return 1 \n",
    "    else:\n",
    "        return 0\n",
    "\n",
    "predictions = []"
   ]
  },
  {
   "cell_type": "code",
   "execution_count": 6,
   "metadata": {},
   "outputs": [
    {
     "name": "stdout",
     "output_type": "stream",
     "text": [
      "Submitted on Kaggle\n"
     ]
    }
   ],
   "source": [
    "predictions = open(\"predictions_Purchase.txt\", 'w') \n",
    "predictions.write(\"reviewerID-itemID,prediction\\n\")\n",
    "\n",
    "for l in open('pairs_Purchase.txt'):\n",
    "    if l.startswith('reviewerID'):\n",
    "        continue\n",
    "    u,i = l.strip().split('-')\n",
    "#     print(str(pred(u,i)))\n",
    "    predictions.write(u + '-' + i + ','+str(pred(u,i))+'\\n')\n",
    "\n",
    "predictions.close()\n",
    "print(\"Submitted on Kaggle\")"
   ]
  },
  {
   "cell_type": "code",
   "execution_count": null,
   "metadata": {},
   "outputs": [],
   "source": []
  }
 ],
 "metadata": {
  "kernelspec": {
   "display_name": "Python 3",
   "language": "python",
   "name": "python3"
  },
  "language_info": {
   "codemirror_mode": {
    "name": "ipython",
    "version": 3
   },
   "file_extension": ".py",
   "mimetype": "text/x-python",
   "name": "python",
   "nbconvert_exporter": "python",
   "pygments_lexer": "ipython3",
   "version": "3.7.1"
  }
 },
 "nbformat": 4,
 "nbformat_minor": 2
}
