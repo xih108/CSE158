{
 "cells": [
  {
   "cell_type": "code",
   "execution_count": 18,
   "metadata": {},
   "outputs": [],
   "source": [
    "#Predictions Purchase\n",
    "import gzip\n",
    "from collections import defaultdict\n",
    "def readGz(f):\n",
    "    for l in gzip.open(f):\n",
    "        yield eval(l)\n",
    "\n",
    "userCateID = defaultdict(list)\n",
    "userCate = defaultdict(list)\n",
    "itemCateID = defaultdict(int)\n",
    "itemCate = defaultdict(list)\n",
    "\n",
    "count = defaultdict(int)\n",
    "totalPurchases = 0\n",
    "\n",
    "train_set = [l for l in readGz(\"train.json.gz\")]\n",
    "\n",
    "for l in train_set:\n",
    "    user,item,cateID,cate = l['reviewerID'],l['itemID'],l['categoryID'],l['categories']\n",
    "    userCateID[user] += [cateID]\n",
    "    userCate[user] += [cate]\n",
    "   \n",
    "    itemCateID[item] = cateID \n",
    "    itemCate[item] += [cate]\n",
    "    \n",
    "    count[item]+=1\n",
    "    totalPurchases +=1\n",
    "\n",
    "#most popular\n",
    "mostPopular = [(count[item], item) for item in count] \n",
    "mostPopular.sort()\n",
    "mostPopular.reverse()\n",
    "return1 = set()\n",
    "count = 0\n",
    "\n",
    "for ic, i in mostPopular:\n",
    "    count += ic\n",
    "    return1.add(i)\n",
    "    if count > totalPurchases/2.5: \n",
    "        break\n",
    "\n",
    "    \n",
    "def cate_pred(user,item):\n",
    "    if len(itemCate[item]) == 0:\n",
    "        return False\n",
    "    else: \n",
    "        a = itemCate[item][-1][-1]\n",
    "    for c in userCate[user]:\n",
    "        for sub_c in c:\n",
    "            if(a == sub_c):\n",
    "                return True\n",
    "    return False\n",
    "\n",
    "def pred(user,item):\n",
    "    if item in return1 or (itemCateID[item] in userCateID[user] and cate_pred(user,item)):\n",
    "        return 1 \n",
    "    else:\n",
    "        return 0\n",
    "\n",
    "predictions = []"
   ]
  },
  {
   "cell_type": "code",
   "execution_count": 19,
   "metadata": {},
   "outputs": [
    {
     "name": "stdout",
     "output_type": "stream",
     "text": [
      "Submitted on Kaggle\n"
     ]
    }
   ],
   "source": [
    "predictions = open(\"predictions_Purchase.txt\", 'w') \n",
    "predictions.write(\"reviewerID-itemID,prediction\\n\")\n",
    "\n",
    "for l in open('pairs_Purchase.txt'):\n",
    "    if l.startswith('reviewerID'):\n",
    "        continue\n",
    "    u,i = l.strip().split('-')\n",
    "    predictions.write(u + '-' + i + ','+str(pred(u,i))+'\\n')\n",
    "\n",
    "predictions.close()\n",
    "print(\"Submitted on Kaggle\")"
   ]
  },
  {
   "cell_type": "code",
   "execution_count": null,
   "metadata": {},
   "outputs": [],
   "source": []
  },
  {
   "cell_type": "code",
   "execution_count": null,
   "metadata": {},
   "outputs": [],
   "source": []
  },
  {
   "cell_type": "code",
   "execution_count": 3,
   "metadata": {},
   "outputs": [],
   "source": [
    "import string\n",
    "train_set = [l for l in readGz(\"train.json.gz\") if 'categoryID' in l]\n",
    "# validation_set = d[10000:20000]\n",
    "wordCount = defaultdict(int)\n",
    "count_cat_word = [defaultdict(int),defaultdict(int),defaultdict(int),defaultdict(int),defaultdict(int)]\n",
    "wordCount_cate = defaultdict(int)\n",
    "punctuation = set(string.punctuation)\n",
    "userCateID = defaultdict(list)\n",
    "\n",
    "\n",
    "for l in train_set:\n",
    "    r = ''.join([c for c in l['reviewText'].lower() if c not in punctuation])\n",
    "    c = int(l['categoryID']) \n",
    "    u = l['reviewerID']\n",
    "    userCateID[u] += [c]\n",
    "    \n",
    "    for w in r.split():\n",
    "        wordCount[w] +=1\n",
    "        count_cat_word[c][w] += 1\n",
    "        \n",
    "        \n",
    "counts = [(wordCount[w],w) for w in wordCount] \n",
    "counts.sort()\n",
    "counts.reverse()\n",
    "words = [p[1] for p in counts[:500]]"
   ]
  },
  {
   "cell_type": "code",
   "execution_count": 4,
   "metadata": {},
   "outputs": [],
   "source": [
    "#Category Prediction\n",
    "from sklearn import svm \n",
    "import numpy\n",
    "\n",
    "def feature(l):\n",
    "    feature = []\n",
    "    r = ''.join([c for c in l['reviewText'].lower() if c not in punctuation])\n",
    "    u = l['reviewerID']\n",
    "    r = r.split() \n",
    "    for w in words:\n",
    "        feature.append(int(w in r)) \n",
    "    feature += [int(i in userCateID[u]) for i in range(5)]    \n",
    "    return feature\n",
    "\n",
    "X_train = [feature(l) for l in train_set]\n",
    "Y_train = []\n",
    "for i in range(5):\n",
    "    Y_train.append([int(l['categoryID']) == i for l in train_set])\n",
    "\n",
    "data_test =[l for l in readGz('test_Category.json.gz')] \n",
    "X_test = [feature(l) for l in data_test]\n"
   ]
  },
  {
   "cell_type": "code",
   "execution_count": 5,
   "metadata": {},
   "outputs": [
    {
     "name": "stdout",
     "output_type": "stream",
     "text": [
      "Submitted on Kaggle\n"
     ]
    }
   ],
   "source": [
    "predictions = open(\"predictions_Category.txt\", 'w') \n",
    "predictions.write(\"reviewerID-reviewHash,category\\n\")\n",
    "\n",
    "clf = []\n",
    "Y_pred = [] \n",
    "scores = []\n",
    "X_validation = [feature(l) for l in data_test]\n",
    "\n",
    "for i in range(5):\n",
    "    clf.append(svm.LinearSVC(C = 0.01))\n",
    "    clf[i].fit(X_train,Y_train[i])\n",
    "    scores.append(clf[i].decision_function(X_validation))\n",
    "\n",
    "for j in range(len(X_validation)):\n",
    "    max_score = max([scores[i][j] for i in range(5)]) \n",
    "    for i in range(5):\n",
    "        if scores[i][j] == max_score: \n",
    "            Y_pred.append(i)\n",
    "            break\n",
    "        \n",
    "for i in range(len(data_test)):\n",
    "    rid,rh = data_test[i]['reviewerID'],data_test[i]['reviewHash'] \n",
    "    predictions.write(rid +\"-\"+rh+\",\"+str(Y_pred[i])+\"\\n\")\n",
    "\n",
    "predictions.close()\n",
    "print(\"Submitted on Kaggle\")"
   ]
  },
  {
   "cell_type": "code",
   "execution_count": null,
   "metadata": {},
   "outputs": [],
   "source": []
  },
  {
   "cell_type": "code",
   "execution_count": null,
   "metadata": {},
   "outputs": [],
   "source": []
  }
 ],
 "metadata": {
  "kernelspec": {
   "display_name": "Python 3",
   "language": "python",
   "name": "python3"
  },
  "language_info": {
   "codemirror_mode": {
    "name": "ipython",
    "version": 3
   },
   "file_extension": ".py",
   "mimetype": "text/x-python",
   "name": "python",
   "nbconvert_exporter": "python",
   "pygments_lexer": "ipython3",
   "version": "3.7.1"
  }
 },
 "nbformat": 4,
 "nbformat_minor": 2
}
