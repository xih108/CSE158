{
 "cells": [
  {
   "cell_type": "code",
   "execution_count": 2,
   "metadata": {},
   "outputs": [],
   "source": [
    "#Q3:\n",
    "import gzip\n",
    "import random\n",
    "\n",
    "def readGz(f):\n",
    "    for l in gzip.open(f):\n",
    "        yield eval(l)\n",
    "\n",
    "purchase_history = dict()\n",
    "item_cate = dict()\n",
    "# cate_baseline = set()\n",
    "for l in readGz(\"train.json.gz\"):\n",
    "    u = l['reviewerID']\n",
    "    c = l['categoryID']\n",
    "    i = l['itemID']\n",
    "    if u not in purchase_history:\n",
    "        purchase_history[u] = [c]\n",
    "    else: purchase_history[u] += [c]\n",
    "    if i not in item_cate:\n",
    "        item_cate[i] = [c]\n",
    "    else: item_cate[i] += [c]\n",
    "        \n",
    "# cate_baseline"
   ]
  },
  {
   "cell_type": "code",
   "execution_count": null,
   "metadata": {},
   "outputs": [],
   "source": [
    "#Q4:\n",
    "predictions = []\n",
    "for l in open(\"pairs_Purchase.txt\"):\n",
    "    if l.startswith(\"reviewerID\"):\n",
    "        continue\n",
    "    u,i = l.strip().split('-')\n",
    "    a = (sum([1 for c1 in purchase_history for c2 in item_cate if c1 == c2]))\n",
    "    if a >= 1:\n",
    "        predictions +=[1]\n",
    "    else:\n",
    "        predictions +=[0]\n",
    "\n",
    "accuracy = sum(predictions)/len(predictions)"
   ]
  },
  {
   "cell_type": "code",
   "execution_count": null,
   "metadata": {},
   "outputs": [],
   "source": []
  }
 ],
 "metadata": {
  "kernelspec": {
   "display_name": "Python 3",
   "language": "python",
   "name": "python3"
  },
  "language_info": {
   "codemirror_mode": {
    "name": "ipython",
    "version": 3
   },
   "file_extension": ".py",
   "mimetype": "text/x-python",
   "name": "python",
   "nbconvert_exporter": "python",
   "pygments_lexer": "ipython3",
   "version": "3.7.0"
  }
 },
 "nbformat": 4,
 "nbformat_minor": 2
}
